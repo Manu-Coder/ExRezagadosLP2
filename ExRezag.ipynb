{
 "cells": [
  {
   "cell_type": "code",
   "execution_count": 90,
   "id": "bc833344",
   "metadata": {},
   "outputs": [],
   "source": [
    "# PREGUNTA 1 \n",
    "\n",
    "#De la página: https://pubmed.ncbi.nlm.nih.gov/\n",
    "#Extraer información de la búsqueda: phylogenetic AND (machine OR deep) AND learning\n",
    "\n",
    "import requests # Importamos la librería requests para realizar peticiones HTTP\n",
    "import re # Importamos la liberia re para poder trabajar con regular expressions\n",
    "from bs4 import BeautifulSoup  # Para extraer información en formato HTML y usarlo en el análisis\n",
    "\n",
    "url = \"https://pubmed.ncbi.nlm.nih.gov/?term=phylogenetic+AND+%28machine+OR+deep%29+AND+learning\"\n",
    "get = requests.get(url)\n",
    "soup = BeautifulSoup(get.text,\"html.parser\")\n",
    "doi_name = soup.find(\"article\").find_all(\"docsum-journal-citation full-journal-citation\")\n",
    "title_name = soup.find(\"article\").find_all(\"docsum-title\")\n",
    "autor_name = soup.find(\"article\").find_all(\"docsum-authors short-authors\")\n",
    "keys_name = soup.find(\"article\").find_all(\"sub-title\")\n",
    "revista_name = soup.find(\"article\").find_all(\"docsum-journal-citation full-journal-citation\")"
   ]
  },
  {
   "cell_type": "code",
   "execution_count": 91,
   "id": "6c9c5433",
   "metadata": {},
   "outputs": [
    {
     "data": {
      "text/plain": [
       "[]"
      ]
     },
     "execution_count": 91,
     "metadata": {},
     "output_type": "execute_result"
    }
   ],
   "source": []
  },
  {
   "cell_type": "code",
   "execution_count": 61,
   "id": "02af99f8",
   "metadata": {},
   "outputs": [
    {
     "name": "stdout",
     "output_type": "stream",
     "text": [
      "US    54.695222\n",
      "GB     7.248764\n",
      "IN     4.942339\n",
      "CA     4.777595\n",
      "DE     4.118616\n",
      "FR     2.965404\n",
      "ES     2.471170\n",
      "GR     2.141680\n",
      "JP     1.153213\n",
      "PT     0.988468\n",
      "BR     0.988468\n",
      "PK     0.988468\n",
      "NL     0.823723\n",
      "PL     0.658979\n",
      "IT     0.658979\n",
      "RU     0.658979\n",
      "AE     0.494234\n",
      "AT     0.494234\n",
      "VN     0.494234\n",
      "TR     0.494234\n",
      "AU     0.494234\n",
      "RO     0.329489\n",
      "BE     0.329489\n",
      "SG     0.329489\n",
      "SI     0.329489\n",
      "DK     0.329489\n",
      "HU     0.329489\n",
      "NG     0.329489\n",
      "MX     0.329489\n",
      "BO     0.164745\n",
      "MY     0.164745\n",
      "TN     0.164745\n",
      "IE     0.164745\n",
      "DZ     0.164745\n",
      "AR     0.164745\n",
      "CZ     0.164745\n",
      "JE     0.164745\n",
      "LU     0.164745\n",
      "PR     0.164745\n",
      "RS     0.164745\n",
      "EE     0.164745\n",
      "CL     0.164745\n",
      "HK     0.164745\n",
      "KE     0.164745\n",
      "MD     0.164745\n",
      "CO     0.164745\n",
      "IR     0.164745\n",
      "CN     0.164745\n",
      "MT     0.164745\n",
      "UA     0.164745\n",
      "IQ     0.164745\n",
      "HN     0.164745\n",
      "BG     0.164745\n",
      "HR     0.164745\n",
      "PH     0.164745\n",
      "NZ     0.164745\n",
      "CH     0.164745\n",
      "Name: employee_residence, dtype: float64\n",
      "El pais con mayor residencia es Estados Unidos\n",
      "El 62.77% de los empleados tuvieron un trabajo completamente remoto\n"
     ]
    }
   ],
   "source": [
    "# PREGUNTA 2\n",
    "\n",
    "import pandas as pd\n",
    "import numpy as np\n",
    "\n",
    "# a.\n",
    "salarios = pd.read_csv(\"ds_salaries.csv\", sep = \",\")\n",
    "experiencia = salarios.groupby(['experience_level'])\n",
    "promedio = experiencia['salary'].mean()\n",
    "#print(promedio)\n",
    "\n",
    "# b. Distribución del país con mayor residencia\n",
    "distribucion = pd.value_counts(salarios['employee_residence'])/len(salarios['employee_residence'])*100  # Contamos los valores de quality y luego la dividimos entre su longitud\n",
    "print(distribucion)\n",
    "print(\"El pais con mayor residencia es Estados Unidos\")\n",
    "\n",
    "# c. \n",
    "remoto = salarios['remote_ratio']\n",
    "completo = remoto[remoto == 100]\n",
    "len(completo)/len(remoto)*100\n",
    "print(\"El 62.77% de los empleados tuvieron un trabajo completamente remoto\")"
   ]
  },
  {
   "cell_type": "code",
   "execution_count": null,
   "id": "b8a55fbe",
   "metadata": {},
   "outputs": [],
   "source": []
  },
  {
   "cell_type": "code",
   "execution_count": null,
   "id": "6fa3ce08",
   "metadata": {},
   "outputs": [],
   "source": []
  }
 ],
 "metadata": {
  "kernelspec": {
   "display_name": "Python 3 (ipykernel)",
   "language": "python",
   "name": "python3"
  },
  "language_info": {
   "codemirror_mode": {
    "name": "ipython",
    "version": 3
   },
   "file_extension": ".py",
   "mimetype": "text/x-python",
   "name": "python",
   "nbconvert_exporter": "python",
   "pygments_lexer": "ipython3",
   "version": "3.9.12"
  }
 },
 "nbformat": 4,
 "nbformat_minor": 5
}
